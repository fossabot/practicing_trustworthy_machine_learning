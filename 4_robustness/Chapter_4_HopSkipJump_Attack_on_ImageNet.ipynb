{
 "cells": [
  {
   "cell_type": "markdown",
   "id": "b1844be8",
   "metadata": {},
   "source": [
    "| Chapter  | Colab   | Kaggle          | Gradient      | Studio Lab             |\n",
    "|:---------|:--------|:----------------|:--------------|:-----------------------|\n",
    "| [Chapter 4: HopSkipJump Attack on ImageNet](4_robustness/Chapter_4_HopSkipJump_Attack_on_ImageNet.ipynb)               | [![Open In Colab](https://colab.research.google.com/assets/colab-badge.svg)](https://colab.research.google.com/github/matthew-mcateer/practicing_trustworthy_machine_learning/blob/main/4_robustness/Chapter_4_HopSkipJump_Attack_on_ImageNet.ipynb)          | [![Kaggle](https://kaggle.com/static/images/open-in-kaggle.svg)](https://kaggle.com/kernels/welcome?src=https://github.com/matthew-mcateer/practicing_trustworthy_machine_learning/blob/main/4_robustness/Chapter_4_HopSkipJump_Attack_on_ImageNet.ipynb)          | [![Gradient](https://assets.paperspace.io/img/gradient-badge.svg)](https://console.paperspace.com/github/matthew-mcateer/practicing_trustworthy_machine_learning/blob/main/4_robustness/Chapter_4_HopSkipJump_Attack_on_ImageNet.ipynb)          | [![Open In SageMaker Studio Lab](https://studiolab.sagemaker.aws/studiolab.svg)](https://studiolab.sagemaker.aws/import/github/matthew-mcateer/practicing_trustworthy_machine_learning/blob/main/4_robustness/Chapter_4_HopSkipJump_Attack_on_ImageNet.ipynb)          |\n"
   ]
  }
 ],
 "metadata": {
  "kernelspec": {
   "display_name": "Python 3.9.0 64-bit ('3.9.0')",
   "language": "python",
   "name": "python3"
  },
  "language_info": {
   "codemirror_mode": {
    "name": "ipython",
    "version": 3
   },
   "file_extension": ".py",
   "mimetype": "text/x-python",
   "name": "python",
   "nbconvert_exporter": "python",
   "pygments_lexer": "ipython3",
   "version": "3.9.0"
  },
  "vscode": {
   "interpreter": {
    "hash": "b6b7e97e50c754c7aee36d85160e6764033ec8a20165f676e018446c78d531c2"
   }
  }
 },
 "nbformat": 4,
 "nbformat_minor": 5
}
